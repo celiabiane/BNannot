{
 "cells": [
  {
   "cell_type": "markdown",
   "metadata": {},
   "source": [
    "# Unitary perturbations of Boolean networks "
   ]
  },
  {
   "cell_type": "markdown",
   "metadata": {},
   "source": [
    "Modules importation. \n",
    "biolqm is used to apply the node and edge perturbations and compute trapspaces of wild-type and mutant Boolean networks\n",
    "numpy and matplotlib are used for the vizualization of results."
   ]
  },
  {
   "cell_type": "code",
   "execution_count": 472,
   "metadata": {},
   "outputs": [
    {
     "name": "stdout",
     "output_type": "stream",
     "text": [
      "numpy: 1.17.2\n",
      "matplotlib: 3.1.1\n"
     ]
    }
   ],
   "source": [
    "import biolqm\n",
    "import ginsim\n",
    "import numpy as np\n",
    "print('numpy: '+np.version.full_version)\n",
    "import matplotlib\n",
    "print('matplotlib: '+matplotlib.__version__)\n",
    "import matplotlib.pyplot as plt\n",
    "%matplotlib inline"
   ]
  },
  {
   "cell_type": "markdown",
   "metadata": {},
   "source": [
    "## Wild-type model "
   ]
  },
  {
   "cell_type": "markdown",
   "metadata": {},
   "source": [
    "Loading of the model in bnet format with BioLQM"
   ]
  },
  {
   "cell_type": "code",
   "execution_count": 473,
   "metadata": {},
   "outputs": [],
   "source": [
    "lqm = biolqm.load(\"/tmp/colomotofg3_rtwt_small.bnet\")"
   ]
  },
  {
   "cell_type": "code",
   "execution_count": 476,
   "metadata": {},
   "outputs": [
    {
     "data": {
      "image/png": "[encoded data removed]",
      "text/plain": [
       "<IPython.core.display.Image object>"
      ]
     },
     "execution_count": 476,
     "metadata": {},
     "output_type": "execute_result"
    }
   ],
   "source": [
    "biolqm.autolayout(lqm, method=\"patchwork\")\n",
    "lrg = biolqm.to_ginsim(lqm)\n",
    "ginsim.show(lrg)\n"
   ]
  },
  {
   "cell_type": "code",
   "execution_count": 477,
   "metadata": {},
   "outputs": [
    {
     "data": {
      "image/png": "[encoded data removed]",
      "text/plain": [
       "<IPython.core.display.Image object>"
      ]
     },
     "execution_count": 477,
     "metadata": {},
     "output_type": "execute_result"
    }
   ],
   "source": [
    "lrg = biolqm.to_ginsim(lqm, layout_method=\"circo\")\n",
    "ginsim.show(lrg)"
   ]
  },
  {
   "cell_type": "markdown",
   "metadata": {},
   "source": [
    "Computation of wild-type trapspaces "
   ]
  },
  {
   "cell_type": "code",
   "execution_count": 479,
   "metadata": {},
   "outputs": [
    {
     "name": "stdout",
     "output_type": "stream",
     "text": [
      "# computing graph layout...\n"
     ]
    },
    {
     "data": {
      "image/svg+xml": [
       "<?xml version=\"1.0\" encoding=\"UTF-8\" standalone=\"no\"?>\n",
       "<!DOCTYPE svg PUBLIC \"-//W3C//DTD SVG 1.1//EN\"\n",
       " \"http://www.w3.org/Graphics/SVG/1.1/DTD/svg11.dtd\">\n",
       "<!-- Generated by graphviz version 2.38.0 (20140413.2041)\n",
       " -->\n",
       "<!-- Title: %3 Pages: 1 -->\n",
       "<svg width=\"129pt\" height=\"218pt\"\n",
       " viewBox=\"0.00 0.00 129.00 218.00\" xmlns=\"http://www.w3.org/2000/svg\" xmlns:xlink=\"http://www.w3.org/1999/xlink\">\n",
       "<g id=\"graph0\" class=\"graph\" transform=\"scale(1 1) rotate(0) translate(4 214)\">\n",
       "<title>%3</title>\n",
       "<polygon fill=\"white\" stroke=\"none\" points=\"-4,4 -4,-214 125,-214 125,4 -4,4\"/>\n",
       "<!-- x1 -->\n",
       "<g id=\"node1\" class=\"node\"><title>x1</title>\n",
       "<ellipse fill=\"none\" stroke=\"black\" cx=\"68\" cy=\"-192\" rx=\"27\" ry=\"18\"/>\n",
       "<text text-anchor=\"middle\" x=\"68\" y=\"-188.3\" font-family=\"Times,serif\" font-size=\"14.00\">x1</text>\n",
       "</g>\n",
       "<!-- x1&#45;&gt;x1 -->\n",
       "<g id=\"edge1\" class=\"edge\"><title>x1&#45;&gt;x1</title>\n",
       "<path fill=\"none\" stroke=\"black\" d=\"M92.5325,-199.752C103.508,-200.49 113,-197.906 113,-192 113,-188.032 108.715,-185.563 102.574,-184.594\"/>\n",
       "<polygon fill=\"black\" stroke=\"black\" points=\"102.647,-181.095 92.5325,-184.248 102.406,-188.091 102.647,-181.095\"/>\n",
       "<text text-anchor=\"middle\" x=\"117\" y=\"-188.3\" font-family=\"Times,serif\" font-size=\"14.00\">+</text>\n",
       "</g>\n",
       "<!-- x2 -->\n",
       "<g id=\"node2\" class=\"node\"><title>x2</title>\n",
       "<ellipse fill=\"none\" stroke=\"black\" cx=\"27\" cy=\"-105\" rx=\"27\" ry=\"18\"/>\n",
       "<text text-anchor=\"middle\" x=\"27\" y=\"-101.3\" font-family=\"Times,serif\" font-size=\"14.00\">x2</text>\n",
       "</g>\n",
       "<!-- x1&#45;&gt;x2 -->\n",
       "<g id=\"edge2\" class=\"edge\"><title>x1&#45;&gt;x2</title>\n",
       "<path fill=\"none\" stroke=\"black\" d=\"M60.0948,-174.611C54.1959,-162.382 46.0254,-145.443 39.2788,-131.456\"/>\n",
       "<polygon fill=\"black\" stroke=\"black\" points=\"42.378,-129.825 34.8809,-122.339 36.0731,-132.866 42.378,-129.825\"/>\n",
       "<text text-anchor=\"middle\" x=\"54\" y=\"-144.8\" font-family=\"Times,serif\" font-size=\"14.00\">+</text>\n",
       "</g>\n",
       "<!-- x3 -->\n",
       "<g id=\"node3\" class=\"node\"><title>x3</title>\n",
       "<ellipse fill=\"none\" stroke=\"black\" cx=\"58\" cy=\"-18\" rx=\"27\" ry=\"18\"/>\n",
       "<text text-anchor=\"middle\" x=\"58\" y=\"-14.3\" font-family=\"Times,serif\" font-size=\"14.00\">x3</text>\n",
       "</g>\n",
       "<!-- x1&#45;&gt;x3 -->\n",
       "<g id=\"edge3\" class=\"edge\"><title>x1&#45;&gt;x3</title>\n",
       "<path fill=\"none\" stroke=\"black\" d=\"M67.3024,-173.695C66.439,-153.049 64.8538,-117.493 63,-87 62.1833,-73.5662 61.1058,-58.6523 60.1603,-46.2227\"/>\n",
       "<polygon fill=\"black\" stroke=\"black\" points=\"63.6334,-45.7394 59.3732,-36.0389 56.6543,-46.2789 63.6334,-45.7394\"/>\n",
       "<text text-anchor=\"middle\" x=\"68\" y=\"-101.3\" font-family=\"Times,serif\" font-size=\"14.00\">+</text>\n",
       "</g>\n",
       "<!-- x2&#45;&gt;x3 -->\n",
       "<g id=\"edge4\" class=\"edge\"><title>x2&#45;&gt;x3</title>\n",
       "<path fill=\"none\" stroke=\"black\" d=\"M25.0156,-86.7878C24.5209,-76.8837 25.0209,-64.3837 29,-54 30.7772,-49.3623 33.4334,-44.8895 36.4289,-40.7809\"/>\n",
       "<polygon fill=\"black\" stroke=\"black\" points=\"39.2405,-42.872 42.8814,-32.9224 33.8305,-38.4299 39.2405,-42.872\"/>\n",
       "<text text-anchor=\"middle\" x=\"33\" y=\"-57.8\" font-family=\"Times,serif\" font-size=\"14.00\">&#45;</text>\n",
       "</g>\n",
       "<!-- x3&#45;&gt;x2 -->\n",
       "<g id=\"edge5\" class=\"edge\"><title>x3&#45;&gt;x2</title>\n",
       "<path fill=\"none\" stroke=\"black\" d=\"M51.8881,-35.7584C47.518,-47.7411 41.5503,-64.1039 36.5542,-77.8031\"/>\n",
       "<polygon fill=\"black\" stroke=\"black\" points=\"33.2628,-76.6128 33.1246,-87.2067 39.8391,-79.0113 33.2628,-76.6128\"/>\n",
       "<text text-anchor=\"middle\" x=\"49\" y=\"-57.8\" font-family=\"Times,serif\" font-size=\"14.00\">+</text>\n",
       "</g>\n",
       "</g>\n",
       "</svg>\n"
      ],
      "text/plain": [
       "<networkx.classes.multidigraph.MultiDiGraph at 0x7f12fa91f828>"
      ]
     },
     "execution_count": 479,
     "metadata": {},
     "output_type": "execute_result"
    }
   ],
   "source": [
    "ig = biolqm.influence_graph(lqm)\n",
    "ig"
   ]
  },
  {
   "cell_type": "code",
   "execution_count": 190,
   "metadata": {},
   "outputs": [
    {
     "data": {
      "text/plain": [
       "[{'x1': 1, 'x2': 1, 'x3': 1}, {'x1': 0, 'x2': 0, 'x3': 1}]"
      ]
     },
     "execution_count": 190,
     "metadata": {},
     "output_type": "execute_result"
    }
   ],
   "source": [
    "wt_traps=biolqm.trapspace(lqm, \"terminal\")\n",
    "wt_traps"
   ]
  },
  {
   "cell_type": "markdown",
   "metadata": {},
   "source": [
    "## Partition of unitary perturbations"
   ]
  },
  {
   "cell_type": "markdown",
   "metadata": {},
   "source": [
    "### Generation of all possible unitary edge and node perturbations "
   ]
  },
  {
   "cell_type": "code",
   "execution_count": 452,
   "metadata": {},
   "outputs": [],
   "source": [
    "def unitary_perturbations(model):\n",
    "    nodes_ko={str(c)+'%0' for c in model.getComponents()}\n",
    "    nodes_oe={str(c)+'%1' for c in model.getComponents()}\n",
    "    \n",
    "    molecules_perturbation=dict({'nodes_ko':list(nodes_ko),'nodes_oe':list(nodes_oe)}) \n",
    "    \n",
    "    ig = biolqm.influence_graph(model)\n",
    "    positive_influences=[(source,target) for (source,target,sign) in list(ig.edges(data=True)) if sign['sign']==1]\n",
    "    p_inf_ko={str(source) +':'+str(target)+'%0' for (source,target) in positive_influences}\n",
    "    p_inf_oe={str(source) +':'+str(target)+'%1' for (source,target) in positive_influences}\n",
    "    \n",
    "    positive_influences_perturbations=dict({'positive_influences_ko':list(p_inf_ko),'positive_influences_oe':list(nodes_oe)})\n",
    "    \n",
    "    negative_influences=[(source,target) for (source,target,sign) in list(ig.edges(data=True)) if sign['sign']==-1]\n",
    "    n_inf_ko={str(source) +':'+str(target)+'%0' for (source,target) in negative_influences}\n",
    "    n_inf_oe={str(source) +':'+str(target)+'%1' for (source,target) in negative_influences}\n",
    "    \n",
    "    negative_influences_perturbations=dict({'negative_influences_ko':list(p_inf_ko),'negative_influences_oe':list(nodes_oe)})\n",
    "    \n",
    "    \n",
    "    unitary_perturbations=dict({'molecules_perturbation':molecules_perturbation,'positive_influence_perturbation':positive_influences_perturbations,'negative_influence_perturbation':negative_influences_perturbations})\n",
    "    return unitary_perturbations"
   ]
  },
  {
   "cell_type": "markdown",
   "metadata": {},
   "source": [
    "The list of perturbations of nodes is a list of strings of the form \"variable%value\" for each variable of the network and each value in (0,1)"
   ]
  },
  {
   "cell_type": "code",
   "execution_count": 455,
   "metadata": {},
   "outputs": [],
   "source": [
    "unit_pert_dict=unitary_perturbations(lqm)"
   ]
  },
  {
   "cell_type": "code",
   "execution_count": 459,
   "metadata": {},
   "outputs": [
    {
     "data": {
      "text/plain": [
       "{'x1%0', 'x2%0', 'x3%0'}"
      ]
     },
     "execution_count": 459,
     "metadata": {},
     "output_type": "execute_result"
    }
   ],
   "source": [
    "set(unit_pert_dict['molecules_perturbation']['nodes_ko'])"
   ]
  },
  {
   "cell_type": "code",
   "execution_count": 261,
   "metadata": {},
   "outputs": [
    {
     "data": {
      "text/plain": [
       "{'x1%0', 'x1%1', 'x2%0', 'x2%1', 'x3%0', 'x3%1'}"
      ]
     },
     "execution_count": 261,
     "metadata": {},
     "output_type": "execute_result"
    }
   ],
   "source": [
    "nodes_p={str(c)+'%0' for c in lqm.getComponents()}.union({str(c)+'%1' for c in lqm.getComponents()})\n",
    "nodes_p"
   ]
  },
  {
   "cell_type": "code",
   "execution_count": 427,
   "metadata": {},
   "outputs": [
    {
     "data": {
      "text/plain": [
       "[{'x1%0', 'x2%0', 'x3%0'}, {'x1%1', 'x2%1', 'x3%1'}]"
      ]
     },
     "execution_count": 427,
     "metadata": {},
     "output_type": "execute_result"
    }
   ],
   "source": [
    "nodes_p1=[{str(c)+'%0' for c in lqm.getComponents()},{str(c)+'%1' for c in lqm.getComponents()}]\n",
    "nodes_p1"
   ]
  },
  {
   "cell_type": "markdown",
   "metadata": {},
   "source": [
    "The list of perturbations of edges is a list of strings of the form \"source:target%value\" for each (source,target) couple (ie, interaction) of the network and each value in (0,1)"
   ]
  },
  {
   "cell_type": "code",
   "execution_count": 262,
   "metadata": {},
   "outputs": [
    {
     "data": {
      "text/plain": [
       "[('x1', 'x1'), ('x1', 'x2'), ('x1', 'x3'), ('x2', 'x3'), ('x3', 'x2')]"
      ]
     },
     "execution_count": 262,
     "metadata": {},
     "output_type": "execute_result"
    }
   ],
   "source": [
    "ig = biolqm.influence_graph(lqm)\n",
    "list(ig.edges())"
   ]
  },
  {
   "cell_type": "code",
   "execution_count": 263,
   "metadata": {},
   "outputs": [],
   "source": [
    "edges_p={str(source) +':'+str(target)+'%0' for (source,target) in list(ig.edges())}.union({str(source) +':'+str(target)+'%1' for (source,target) in list(ig.edges())})"
   ]
  },
  {
   "cell_type": "code",
   "execution_count": 429,
   "metadata": {},
   "outputs": [
    {
     "data": {
      "text/plain": [
       "[{'x1:x1%0', 'x1:x2%0', 'x1:x3%0', 'x2:x3%0', 'x3:x2%0'},\n",
       " {'x1:x1%1', 'x1:x2%1', 'x1:x3%1', 'x2:x3%1', 'x3:x2%1'}]"
      ]
     },
     "execution_count": 429,
     "metadata": {},
     "output_type": "execute_result"
    }
   ],
   "source": [
    "edges_p1=[{str(source) +':'+str(target)+'%0' for (source,target) in list(ig.edges())},{str(source) +':'+str(target)+'%1' for (source,target) in list(ig.edges())}]\n",
    "edges_p1"
   ]
  },
  {
   "cell_type": "code",
   "execution_count": 434,
   "metadata": {},
   "outputs": [],
   "source": [
    "positive_influences=[(source,target) for (source,target,sign) in list(ig.edges(data=True)) if sign['sign']==1]"
   ]
  },
  {
   "cell_type": "code",
   "execution_count": 442,
   "metadata": {},
   "outputs": [
    {
     "data": {
      "text/plain": [
       "{'x1:x1%0', 'x1:x2%0', 'x1:x3%0', 'x3:x2%0'}"
      ]
     },
     "execution_count": 442,
     "metadata": {},
     "output_type": "execute_result"
    }
   ],
   "source": [
    "p_inf_ko={str(source) +':'+str(target)+'%0' for (source,target) in positive_influences}\n",
    "p_inf_ko"
   ]
  },
  {
   "cell_type": "code",
   "execution_count": 436,
   "metadata": {},
   "outputs": [],
   "source": [
    "negative_influences=[(source,target) for (source,target,sign) in list(ig.edges(data=True)) if sign['sign']==-1]"
   ]
  },
  {
   "cell_type": "code",
   "execution_count": 440,
   "metadata": {},
   "outputs": [
    {
     "data": {
      "text/plain": [
       "[('x1', 'x1'), ('x1', 'x2'), ('x1', 'x3'), ('x3', 'x2')]"
      ]
     },
     "execution_count": 440,
     "metadata": {},
     "output_type": "execute_result"
    }
   ],
   "source": [
    "positive_influences"
   ]
  },
  {
   "cell_type": "code",
   "execution_count": 265,
   "metadata": {},
   "outputs": [
    {
     "data": {
      "text/plain": [
       "{'x1%0',\n",
       " 'x1%1',\n",
       " 'x1:x1%0',\n",
       " 'x1:x1%1',\n",
       " 'x1:x2%0',\n",
       " 'x1:x2%1',\n",
       " 'x1:x3%0',\n",
       " 'x1:x3%1',\n",
       " 'x2%0',\n",
       " 'x2%1',\n",
       " 'x2:x3%0',\n",
       " 'x2:x3%1',\n",
       " 'x3%0',\n",
       " 'x3%1',\n",
       " 'x3:x2%0',\n",
       " 'x3:x2%1'}"
      ]
     },
     "execution_count": 265,
     "metadata": {},
     "output_type": "execute_result"
    }
   ],
   "source": [
    "unit_perturbations_set=nodes_p.union(edges_p)\n",
    "unit_perturbations_set"
   ]
  },
  {
   "cell_type": "code",
   "execution_count": 191,
   "metadata": {},
   "outputs": [],
   "source": [
    "ep=[\"x1:x1%1\",\"x1:x1%0\",\"x1:x2%1\",\"x1:x2%0\",\"x1:x3%1\",\"x1:x3%0\",\"x2:x3%0\",\"x2:x3%1\",\"x3:x2%0\",\"x3:x2%1\"]"
   ]
  },
  {
   "cell_type": "code",
   "execution_count": 192,
   "metadata": {},
   "outputs": [],
   "source": [
    "np2=[\"x1%1\",\"x2%1\",\"x3%1\",\"x1%0\",\"x2%0\",\"x3%0\"]"
   ]
  },
  {
   "cell_type": "markdown",
   "metadata": {},
   "source": [
    "### Partition of perturbations "
   ]
  },
  {
   "cell_type": "code",
   "execution_count": 454,
   "metadata": {},
   "outputs": [],
   "source": [
    "## From a set of nodes perturbation and a set of edges perturbation, partition each set in a perturbation-only and a perturbation-equivalent set\n",
    "def unit_perturbation_partitioning(nodes_p,edges_p):\n",
    "    ##Computes sets of networks obtained by unitary pertubations of 1) nodes 2) edges\n",
    "    node_net={(pert,biolqm.perturbation(lqm, pert)) for pert in nodes_p}\n",
    "    edge_net={(pert,biolqm.perturbation(lqm, pert)) for pert in edges_p}\n",
    "    ##A node and an edge perturbation are equivalent if they lead to the same network\n",
    "    node_edge_eq={(node,edge,net1) for (node,net1) in node_net for (edge,net2) in edge_net if biolqm.to_minibn(net1)==biolqm.to_minibn(net2)}   \n",
    "    ##set of  node perturbation having at least an equivalent edge perturbation\n",
    "    nodes_eq={node for (node,edge,net) in node_edge_eq}\n",
    "    ##set of  edge perturbation equivalent to an edge perturbation\n",
    "    edges_eq={edge for (node,edge,net) in node_edge_eq}\n",
    "    ##list of  (node,{edge_set}) equivalent perturbations\n",
    "    node_edge=list((node2,{edge for (node1,edge,net) in node_edge_eq if node1==node2}) for node2 in nodes_eq)\n",
    "    ##list of  node-only perturbations\n",
    "    node_only=set(nodes_p-nodes_eq)\n",
    "    ##list of  edge-only perturbations\n",
    "    edge_only=set(edges_p-edges_eq)\n",
    "    return dict({'node-eq':nodes_eq,'edge-eq' : edges_eq,'node-only' : node_only,'edge-only':edge_only})"
   ]
  },
  {
   "cell_type": "code",
   "execution_count": 466,
   "metadata": {},
   "outputs": [],
   "source": [
    "def global_partitioning(unitary_pert_dict):\n",
    "    nodes_ko=set(unit_pert_dict['molecules_perturbation']['nodes_ko'])\n",
    "    p_inf_ko=set(unit_pert_dict['positive_influence_perturbation']['positive_influences_ko'])\n",
    "    nodes_ko_p_inf_ko=unit_perturbation_partitioning(nodes_ko,p_inf_ko)\n",
    "    \n",
    "    nodes_oe=set(unit_pert_dict['molecules_perturbation']['nodes_oe'])\n",
    "    p_inf_oe=set(unit_pert_dict['positive_influence_perturbation']['positive_influences_oe'])\n",
    "    nodes_oe_p_inf_oe=unit_perturbation_partitioning(nodes_ko,p_inf_ko)\n",
    "    \n",
    "    nodes_ko=set(unit_pert_dict['molecules_perturbation']['nodes_ko'])\n",
    "    p_inf_oe=set(unit_pert_dict['positive_influence_perturbation']['positive_influences_ko'])\n",
    "    nodes_ko_p_inf_ko=unit_perturbation_partitioning(nodes_ko,p_inf_ko)\n",
    "    \n",
    "    glob_partition=dict({'nodes_ko_p_inf_ko':nodes_ko_p_inf_ko})\n",
    "    return glob_partition"
   ]
  },
  {
   "cell_type": "code",
   "execution_count": 460,
   "metadata": {},
   "outputs": [
    {
     "data": {
      "text/plain": [
       "{'x1%0', 'x2%0', 'x3%0'}"
      ]
     },
     "execution_count": 460,
     "metadata": {},
     "output_type": "execute_result"
    }
   ],
   "source": [
    "set(unit_pert_dict['molecules_perturbation']['nodes_ko'])"
   ]
  },
  {
   "cell_type": "code",
   "execution_count": 467,
   "metadata": {},
   "outputs": [
    {
     "data": {
      "text/plain": [
       "{'nodes_ko_p_inf_ko': {'node-eq': {'x1%0', 'x2%0'},\n",
       "  'edge-eq': {'x1:x1%0', 'x1:x2%0', 'x3:x2%0'},\n",
       "  'node-only': {'x3%0'},\n",
       "  'edge-only': {'x1:x3%0'}}}"
      ]
     },
     "execution_count": 467,
     "metadata": {},
     "output_type": "execute_result"
    }
   ],
   "source": [
    "a=global_partitioning(unit_pert_dict)\n",
    "a"
   ]
  },
  {
   "cell_type": "code",
   "execution_count": 461,
   "metadata": {},
   "outputs": [
    {
     "data": {
      "text/plain": [
       "{'molecules_perturbation': {'nodes_ko': ['x1%0', 'x3%0', 'x2%0'],\n",
       "  'nodes_oe': ['x1%1', 'x3%1', 'x2%1']},\n",
       " 'positive_influence_perturbation': {'positive_influences_ko': ['x1:x3%0',\n",
       "   'x1:x2%0',\n",
       "   'x1:x1%0',\n",
       "   'x3:x2%0'],\n",
       "  'positive_influences_oe': ['x1%1', 'x3%1', 'x2%1']},\n",
       " 'negative_influence_perturbation': {'negative_influences_ko': ['x1:x3%0',\n",
       "   'x1:x2%0',\n",
       "   'x1:x1%0',\n",
       "   'x3:x2%0'],\n",
       "  'negative_influences_oe': ['x1%1', 'x3%1', 'x2%1']}}"
      ]
     },
     "execution_count": 461,
     "metadata": {},
     "output_type": "execute_result"
    }
   ],
   "source": [
    "unit_pert_dict"
   ]
  },
  {
   "cell_type": "code",
   "execution_count": 374,
   "metadata": {},
   "outputs": [],
   "source": [
    "partition_dict=unit_perturbation_partitioning(nodes_p,edges_p)"
   ]
  },
  {
   "cell_type": "markdown",
   "metadata": {},
   "source": [
    "## Vizualisation  "
   ]
  },
  {
   "cell_type": "code",
   "execution_count": 376,
   "metadata": {},
   "outputs": [
    {
     "data": {
      "text/plain": [
       "{'node-eq': {'x1%0', 'x1%1', 'x2%0', 'x3%1'},\n",
       " 'edge-eq': {'x1:x1%0', 'x1:x1%1', 'x1:x2%0', 'x1:x3%1', 'x2:x3%0', 'x3:x2%0'},\n",
       " 'node-only': {'x2%1', 'x3%0'},\n",
       " 'edge-only': {'x1:x2%1', 'x1:x3%0', 'x2:x3%1', 'x3:x2%1'}}"
      ]
     },
     "execution_count": 376,
     "metadata": {},
     "output_type": "execute_result"
    }
   ],
   "source": [
    "partition_dict"
   ]
  },
  {
   "cell_type": "code",
   "execution_count": 377,
   "metadata": {},
   "outputs": [],
   "source": [
    "def partition_pert_count(partition_dict):\n",
    "    node_eq=len(partition_dict['node-eq'])\n",
    "    edge_eq=len(partition_dict['edge-eq'])\n",
    "    node_only=len(partition_dict['node-only'])\n",
    "    edge_only=len(partition_dict['edge-only'])\n",
    "    return [node_eq,edge_eq,node_only,edge_only]"
   ]
  },
  {
   "cell_type": "code",
   "execution_count": 379,
   "metadata": {},
   "outputs": [
    {
     "data": {
      "text/plain": [
       "[4, 6, 2, 4]"
      ]
     },
     "execution_count": 379,
     "metadata": {},
     "output_type": "execute_result"
    }
   ],
   "source": [
    "res2=partition_pert_count(partition_dict)\n",
    "res2"
   ]
  },
  {
   "cell_type": "code",
   "execution_count": 383,
   "metadata": {},
   "outputs": [],
   "source": [
    "x = [\"node\",\"edge\"]\n",
    "y1 = np.array([res2[0],res2[1]])\n",
    "y2 = np.array([res2[2],res2[3]])\n",
    "\n",
    "# memo of sample number\n",
    "snum = y1+y2\n",
    "\n",
    "# normalization\n",
    "#y1 = y1/snum*100.\n",
    "#y2 = y2/snum*100."
   ]
  },
  {
   "cell_type": "code",
   "execution_count": 395,
   "metadata": {},
   "outputs": [
    {
     "data": {
      "image/png": "[encoded data removed]",
      "text/plain": [
       "<Figure size 864x648 with 1 Axes>"
      ]
     },
     "metadata": {
      "needs_background": "light"
     },
     "output_type": "display_data"
    }
   ],
   "source": [
    "plt.figure(figsize=(12,9))\n",
    "\n",
    "# stack bars\n",
    "plt.bar(x, y1, label='equiv')\n",
    "plt.bar(x, y2 ,bottom=y1,label='only')\n",
    "\n",
    "\n",
    "# add text annotation corresponding to the percentage of each data.\n",
    "for xpos, ypos, yval in zip(x, y1/2, y1):\n",
    "    plt.text(xpos, ypos, \"%d\"%yval, ha=\"center\", va=\"center\")\n",
    "for xpos, ypos, yval in zip(x, y1+y2/2, y2):\n",
    "    plt.text(xpos, ypos, \"%d\"%yval, ha=\"center\", va=\"center\")\n",
    "# add text annotation corresponding to the \"total\" value of each bar\n",
    "for xpos, ypos, yval in zip(x, y1+y2, snum):\n",
    "    plt.text(xpos, ypos, \"N=%d\"%yval, ha=\"center\", va=\"bottom\")\n",
    "\n",
    "plt.ylim(0,11)\n",
    "\n",
    "plt.legend(bbox_to_anchor=(1.01,0.5), loc='center left')\n",
    "plt.savefig('normalized_stacked_barplot_with_number.png', bbox_inches='tight', pad_inches=0.02)"
   ]
  },
  {
   "cell_type": "code",
   "execution_count": 487,
   "metadata": {},
   "outputs": [
    {
     "data": {
      "image/png": "[encoded data removed]",
      "text/plain": [
       "<Figure size 864x648 with 1 Axes>"
      ]
     },
     "metadata": {
      "needs_background": "light"
     },
     "output_type": "display_data"
    }
   ],
   "source": [
    "\n",
    "# libraries\n",
    "import numpy as np\n",
    "import matplotlib.pyplot as plt\n",
    "\n",
    "plt.figure(figsize=(12,9))\n",
    " \n",
    "# set width of bar\n",
    "barWidth = 0.25\n",
    " \n",
    "# set height of bar\n",
    "bars11 = [2, 3, 1]\n",
    "bars12 = [1, 1,0]\n",
    "bars21 = [2, 2,0]\n",
    "bars22 = [1, 2,1]\n",
    " \n",
    "# Set position of bar on X axis\n",
    "r1 = np.arange(len(bars11))\n",
    "r2 = [x + barWidth for x in r1]\n",
    "#r3 = [x + barWidth for x in r2]\n",
    " \n",
    "# Make the plot\n",
    "plt.bar(r1, bars11, color='#ff4a50', width=barWidth, edgecolor='white', label='equiv KO')\n",
    "plt.bar(r1, bars12, color='#ff4a50', hatch='//', bottom=bars11, width=barWidth, edgecolor='white', label='not-equiv KO')\n",
    "plt.bar(r2, bars21, color='#50ff4a', width=barWidth, edgecolor='white', label='equiv OE')\n",
    "plt.bar(r2, bars22, color='#50ff4a', hatch='//', bottom=bars21, width=barWidth, edgecolor='white', label='not-equiv OE')\n",
    "\n",
    "\n",
    " \n",
    "# Add xticks on the middle of the group bars\n",
    "plt.xlabel('Target of perturbations', fontweight='bold')\n",
    "plt.ylabel('Number of perturbations', fontweight='bold')\n",
    "plt.xticks([r + barWidth/2 for r in range(len(bars11))], ['molecule', 'positive influence', 'negative influence'])\n",
    "plt.yticks(np.arange(0, 5, 1))\n",
    "\n",
    "# Create legend & Show graphic\n",
    "plt.legend()\n",
    "plt.show()"
   ]
  },
  {
   "cell_type": "markdown",
   "metadata": {},
   "source": [
    "# 2 Classification of unitary perturbations"
   ]
  },
  {
   "cell_type": "code",
   "execution_count": 203,
   "metadata": {},
   "outputs": [],
   "source": [
    "def trapfamily(mod,pert_list):\n",
    "    netlist=list(map(lambda pert: biolqm.perturbation(mod, pert),pert_list))\n",
    "    mut_trapslist=list(map(lambda net: biolqm.trapspace(net, \"terminal\"),netlist))\n",
    "    return mut_trapslist"
   ]
  },
  {
   "cell_type": "markdown",
   "metadata": {},
   "source": [
    "The following function computes all the trapspaces of each mutant networks derived from the wild-type network mod by unitary perturbations of the list pert_list."
   ]
  },
  {
   "cell_type": "markdown",
   "metadata": {},
   "source": [
    "## 2.1 Perturbations types"
   ]
  },
  {
   "cell_type": "markdown",
   "metadata": {},
   "source": [
    "## 2.1.1 Edgetic "
   ]
  },
  {
   "cell_type": "code",
   "execution_count": 204,
   "metadata": {},
   "outputs": [],
   "source": [
    "edgetic_pert=['x1:x3%0', 'x2:x3%1', 'x3:x2%1', 'x1:x2%1']"
   ]
  },
  {
   "cell_type": "code",
   "execution_count": 205,
   "metadata": {},
   "outputs": [
    {
     "data": {
      "text/plain": [
       "[[{'x1': 0, 'x2': 0, 'x3': 1}, {'x1': 1, 'x2': 254, 'x3': 254}],\n",
       " [{'x1': 1, 'x2': 1, 'x3': 1}, {'x1': 0, 'x2': 0, 'x3': 0}],\n",
       " [{'x1': 1, 'x2': 1, 'x3': 1}, {'x1': 0, 'x2': 0, 'x3': 1}],\n",
       " [{'x1': 1, 'x2': 1, 'x3': 1}, {'x1': 0, 'x2': 254, 'x3': 254}]]"
      ]
     },
     "execution_count": 205,
     "metadata": {},
     "output_type": "execute_result"
    }
   ],
   "source": [
    "edgetic_tf=trapfamily(lqm,edgetic_pert)\n",
    "edgetic_tf"
   ]
  },
  {
   "cell_type": "markdown",
   "metadata": {},
   "source": [
    "### 2.1.2 Node-edge and edge-node"
   ]
  },
  {
   "cell_type": "code",
   "execution_count": 206,
   "metadata": {},
   "outputs": [],
   "source": [
    "edge_node_pert=[\"x1:x1%1\",\"x1:x1%0\",\"x1:x2%0\",\"x1:x3%1\",\"x2:x3%0\",\"x3:x2%0\"]\n",
    "node_edge_pert=[\"x1%1\",\"x1%0\",\"x2%0\",\"x3%1\"]"
   ]
  },
  {
   "cell_type": "code",
   "execution_count": 207,
   "metadata": {},
   "outputs": [
    {
     "data": {
      "text/plain": [
       "[[{'x1': 1, 'x2': 1, 'x3': 1}],\n",
       " [{'x1': 0, 'x2': 0, 'x3': 1}],\n",
       " [{'x1': 1, 'x2': 0, 'x3': 1}, {'x1': 0, 'x2': 0, 'x3': 1}],\n",
       " [{'x1': 1, 'x2': 1, 'x3': 1}, {'x1': 0, 'x2': 0, 'x3': 1}]]"
      ]
     },
     "execution_count": 207,
     "metadata": {},
     "output_type": "execute_result"
    }
   ],
   "source": [
    "node_edge_tf=trapfamily(lqm,node_edge_pert)\n",
    "node_edge_tf"
   ]
  },
  {
   "cell_type": "markdown",
   "metadata": {},
   "source": [
    "### 2.1.3 Node perturbations"
   ]
  },
  {
   "cell_type": "code",
   "execution_count": 208,
   "metadata": {},
   "outputs": [],
   "source": [
    "node_pert=[\"x2%1\",\"x3%0\"]"
   ]
  },
  {
   "cell_type": "code",
   "execution_count": 209,
   "metadata": {},
   "outputs": [
    {
     "data": {
      "text/plain": [
       "[[{'x1': 1, 'x2': 1, 'x3': 1}, {'x1': 0, 'x2': 1, 'x3': 0}],\n",
       " [{'x1': 0, 'x2': 0, 'x3': 0}, {'x1': 1, 'x2': 0, 'x3': 0}]]"
      ]
     },
     "execution_count": 209,
     "metadata": {},
     "output_type": "execute_result"
    }
   ],
   "source": [
    "node_tf=trapfamily(lqm,node_pert)\n",
    "node_tf"
   ]
  },
  {
   "cell_type": "markdown",
   "metadata": {},
   "source": [
    "## 2.1 Formatting of trapspaces for classification"
   ]
  },
  {
   "cell_type": "code",
   "execution_count": 210,
   "metadata": {},
   "outputs": [],
   "source": [
    "def format_trapspace(ts):\n",
    "    dict_traps=list(map(lambda x : dict(x),ts))\n",
    "    traps_set=frozenset(map(lambda x : frozenset(x.items()),dict_traps))\n",
    "    return traps_set"
   ]
  },
  {
   "cell_type": "markdown",
   "metadata": {},
   "source": [
    "### 1.3.2 Wildtype trapspaces"
   ]
  },
  {
   "cell_type": "code",
   "execution_count": 211,
   "metadata": {},
   "outputs": [
    {
     "data": {
      "text/plain": [
       "frozenset({frozenset({('x1', 1), ('x2', 1), ('x3', 1)}),\n",
       "           frozenset({('x1', 0), ('x2', 0), ('x3', 1)})})"
      ]
     },
     "execution_count": 211,
     "metadata": {},
     "output_type": "execute_result"
    }
   ],
   "source": [
    "wt_ts=format_trapspace(wt_traps)\n",
    "wt_ts"
   ]
  },
  {
   "cell_type": "markdown",
   "metadata": {},
   "source": [
    "### 2.1.2 Mutants trapspaces"
   ]
  },
  {
   "cell_type": "code",
   "execution_count": 212,
   "metadata": {},
   "outputs": [
    {
     "data": {
      "text/plain": [
       "[frozenset({frozenset({('x1', 1), ('x2', 254), ('x3', 254)}),\n",
       "            frozenset({('x1', 0), ('x2', 0), ('x3', 1)})}),\n",
       " frozenset({frozenset({('x1', 1), ('x2', 1), ('x3', 1)}),\n",
       "            frozenset({('x1', 0), ('x2', 0), ('x3', 0)})}),\n",
       " frozenset({frozenset({('x1', 1), ('x2', 1), ('x3', 1)}),\n",
       "            frozenset({('x1', 0), ('x2', 0), ('x3', 1)})}),\n",
       " frozenset({frozenset({('x1', 0), ('x2', 254), ('x3', 254)}),\n",
       "            frozenset({('x1', 1), ('x2', 1), ('x3', 1)})})]"
      ]
     },
     "execution_count": 212,
     "metadata": {},
     "output_type": "execute_result"
    }
   ],
   "source": [
    "edgetic_ts=list(map(lambda y : format_trapspace(y),edgetic_tf))\n",
    "edgetic_ts"
   ]
  },
  {
   "cell_type": "code",
   "execution_count": 213,
   "metadata": {},
   "outputs": [
    {
     "data": {
      "text/plain": [
       "[frozenset({frozenset({('x1', 1), ('x2', 1), ('x3', 1)})}),\n",
       " frozenset({frozenset({('x1', 0), ('x2', 0), ('x3', 1)})}),\n",
       " frozenset({frozenset({('x1', 1), ('x2', 0), ('x3', 1)}),\n",
       "            frozenset({('x1', 0), ('x2', 0), ('x3', 1)})}),\n",
       " frozenset({frozenset({('x1', 1), ('x2', 1), ('x3', 1)}),\n",
       "            frozenset({('x1', 0), ('x2', 0), ('x3', 1)})})]"
      ]
     },
     "execution_count": 213,
     "metadata": {},
     "output_type": "execute_result"
    }
   ],
   "source": [
    "node_edge_ts=list(map(lambda y : format_trapspace(y),node_edge_tf))\n",
    "node_edge_ts"
   ]
  },
  {
   "cell_type": "code",
   "execution_count": 214,
   "metadata": {},
   "outputs": [
    {
     "data": {
      "text/plain": [
       "[frozenset({frozenset({('x1', 1), ('x2', 1), ('x3', 1)}),\n",
       "            frozenset({('x1', 0), ('x2', 1), ('x3', 0)})}),\n",
       " frozenset({frozenset({('x1', 1), ('x2', 0), ('x3', 0)}),\n",
       "            frozenset({('x1', 0), ('x2', 0), ('x3', 0)})})]"
      ]
     },
     "execution_count": 214,
     "metadata": {},
     "output_type": "execute_result"
    }
   ],
   "source": [
    "node_ts=list(map(lambda y : format_trapspace(y),node_tf))\n",
    "node_ts"
   ]
  },
  {
   "cell_type": "markdown",
   "metadata": {},
   "source": [
    "## 2.2 Classification by comparison to wild-type trapspaces"
   ]
  },
  {
   "cell_type": "code",
   "execution_count": 215,
   "metadata": {},
   "outputs": [],
   "source": [
    "def classification(wt,mut):\n",
    "    if wt==mut : return 1 \n",
    "    elif wt>mut : return 2 \n",
    "    else: \n",
    "        if not wt.intersection(mut) : return 3 \n",
    "        else: return 4"
   ]
  },
  {
   "cell_type": "code",
   "execution_count": 216,
   "metadata": {},
   "outputs": [
    {
     "data": {
      "text/plain": [
       "[4, 4, 1, 4]"
      ]
     },
     "execution_count": 216,
     "metadata": {},
     "output_type": "execute_result"
    }
   ],
   "source": [
    "edgetic_classes=list(map(lambda x : classification(wt_ts, x),edgetic_ts))\n",
    "edgetic_classes"
   ]
  },
  {
   "cell_type": "code",
   "execution_count": 217,
   "metadata": {},
   "outputs": [
    {
     "data": {
      "text/plain": [
       "[2, 2, 4, 1]"
      ]
     },
     "execution_count": 217,
     "metadata": {},
     "output_type": "execute_result"
    }
   ],
   "source": [
    "node_edge_classes=list(map(lambda x : classification(wt_ts, x),node_edge_ts))\n",
    "node_edge_classes"
   ]
  },
  {
   "cell_type": "code",
   "execution_count": 218,
   "metadata": {},
   "outputs": [
    {
     "data": {
      "text/plain": [
       "[4, 3]"
      ]
     },
     "execution_count": 218,
     "metadata": {},
     "output_type": "execute_result"
    }
   ],
   "source": [
    "node_classes=list(map(lambda x : classification(wt_ts, x),node_ts))\n",
    "node_classes"
   ]
  },
  {
   "cell_type": "code",
   "execution_count": 219,
   "metadata": {},
   "outputs": [
    {
     "data": {
      "text/plain": [
       "0"
      ]
     },
     "execution_count": 219,
     "metadata": {},
     "output_type": "execute_result"
    }
   ],
   "source": [
    "edgetic_classes.count(3)"
   ]
  },
  {
   "cell_type": "code",
   "execution_count": 220,
   "metadata": {},
   "outputs": [
    {
     "data": {
      "text/plain": [
       "3"
      ]
     },
     "execution_count": 220,
     "metadata": {},
     "output_type": "execute_result"
    }
   ],
   "source": [
    "edgetic_classes.count(4)"
   ]
  },
  {
   "cell_type": "markdown",
   "metadata": {},
   "source": [
    "# 3 Visualisation"
   ]
  },
  {
   "cell_type": "code",
   "execution_count": 221,
   "metadata": {
    "scrolled": true
   },
   "outputs": [],
   "source": [
    "def class_pert_count(node_edge,edgetic,node):\n",
    "    silent_count_node=list(map(lambda x : x.count(1),[node_edge,edgetic,node]))\n",
    "    spec_count_node=list(map(lambda x : x.count(2),[node_edge,edgetic,node]))\n",
    "    div1_count_node=list(map(lambda x : x.count(3),[node_edge,edgetic,node]))\n",
    "    div2_count_node=list(map(lambda x : x.count(4),[node_edge,edgetic,node]))\n",
    "    return [silent_count_node,spec_count_node,div1_count_node,div2_count_node]"
   ]
  },
  {
   "cell_type": "code",
   "execution_count": 222,
   "metadata": {},
   "outputs": [
    {
     "data": {
      "text/plain": [
       "[[1, 1, 0], [2, 0, 0], [0, 0, 1], [1, 3, 1]]"
      ]
     },
     "execution_count": 222,
     "metadata": {},
     "output_type": "execute_result"
    }
   ],
   "source": [
    "res=class_pert_count(node_edge_classes,edgetic_classes,node_classes)\n",
    "res"
   ]
  },
  {
   "cell_type": "raw",
   "metadata": {},
   "source": [
    "np.array(res[0])"
   ]
  },
  {
   "cell_type": "code",
   "execution_count": 223,
   "metadata": {},
   "outputs": [],
   "source": [
    "x = [\"node-edge\",\"edgetic\",\"node\"]\n",
    "y1 = np.array(res[0])\n",
    "y2 = np.array(res[1])\n",
    "y3 = np.array(res[2])\n",
    "y4 = np.array(res[3])\n",
    "\n",
    "# memo of sample number\n",
    "snum = y1+y2+y3+y4\n",
    "\n",
    "# normalization\n",
    "y1 = y1/snum*100.\n",
    "y2 = y2/snum*100.\n",
    "y3 = y3/snum*100.\n",
    "y4 = y4/snum*100."
   ]
  },
  {
   "cell_type": "code",
   "execution_count": 247,
   "metadata": {},
   "outputs": [
    {
     "data": {
      "image/png": "[encoded data removed]",
      "text/plain": [
       "<Figure size 864x648 with 1 Axes>"
      ]
     },
     "metadata": {
      "needs_background": "light"
     },
     "output_type": "display_data"
    }
   ],
   "source": [
    "plt.figure(figsize=(12,9))\n",
    "\n",
    "# stack bars\n",
    "plt.bar(x, y1, label='silent')\n",
    "plt.bar(x, y2 ,bottom=y1,label='specialisation')\n",
    "plt.bar(x, y3 ,bottom=y1+y2,label='diversification -')\n",
    "plt.bar(x, y4 ,bottom=y1+y2+y3,label='diversification +')\n",
    "\n",
    "# add text annotation corresponding to the percentage of each data.\n",
    "for xpos, ypos, yval in zip(x, y1/2, y1):\n",
    "    plt.text(xpos, ypos, \"%.1f\"%yval, ha=\"center\", va=\"center\")\n",
    "for xpos, ypos, yval in zip(x, y1+y2/2, y2):\n",
    "    plt.text(xpos, ypos, \"%.1f\"%yval, ha=\"center\", va=\"center\")\n",
    "for xpos, ypos, yval in zip(x, y1+y2+y3/2, y3):\n",
    "    plt.text(xpos, ypos, \"%.1f\"%yval, ha=\"center\", va=\"center\")\n",
    "for xpos, ypos, yval in zip(x, y1+y2+y3+y4/2, y4):\n",
    "    plt.text(xpos, ypos, \"%.1f\"%yval, ha=\"center\", va=\"center\")\n",
    "# add text annotation corresponding to the \"total\" value of each bar\n",
    "for xpos, ypos, yval in zip(x, y1+y2+y3+y4, snum):\n",
    "    plt.text(xpos, ypos, \"N=%d\"%yval, ha=\"center\", va=\"bottom\")\n",
    "\n",
    "plt.ylim(0,110)\n",
    "\n",
    "plt.legend(bbox_to_anchor=(1.01,0.5), loc='center left')\n",
    "plt.savefig('normalized_stacked_barplot_with_number.png', bbox_inches='tight', pad_inches=0.02)"
   ]
  },
  {
   "cell_type": "code",
   "execution_count": 382,
   "metadata": {},
   "outputs": [
    {
     "data": {
      "text/plain": [
       "<BarContainer object of 4 artists>"
      ]
     },
     "execution_count": 382,
     "metadata": {},
     "output_type": "execute_result"
    },
    {
     "data": {
      "image/png": "[encoded data removed]",
      "text/plain": [
       "<Figure size 432x288 with 1 Axes>"
      ]
     },
     "metadata": {
      "needs_background": "light"
     },
     "output_type": "display_data"
    }
   ],
   "source": []
  },
  {
   "cell_type": "code",
   "execution_count": null,
   "metadata": {},
   "outputs": [],
   "source": []
  }
 ],
 "metadata": {
  "kernelspec": {
   "display_name": "Python 3",
   "language": "python",
   "name": "python3"
  },
  "language_info": {
   "codemirror_mode": {
    "name": "ipython",
    "version": 3
   },
   "file_extension": ".py",
   "mimetype": "text/x-python",
   "name": "python",
   "nbconvert_exporter": "python",
   "pygments_lexer": "ipython3",
   "version": "3.7.3"
  }
 },
 "nbformat": 4,
 "nbformat_minor": 2
}
